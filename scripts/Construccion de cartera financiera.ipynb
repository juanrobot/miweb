{
 "cells": [
  {
   "cell_type": "markdown",
   "id": "ab2c38b4-3245-48d0-8ad7-e79d29969370",
   "metadata": {},
   "source": [
    "# CONSTRUCCIÓN DE CARTERA FINANCIERA"
   ]
  },
  {
   "cell_type": "markdown",
   "id": "85ebccc6-9647-4a0f-a8b4-72c042bf50b1",
   "metadata": {},
   "source": [
    "### Librerías"
   ]
  },
  {
   "cell_type": "code",
   "execution_count": 1,
   "id": "ce0e5986-e475-4a02-8325-fd2173b8ead9",
   "metadata": {},
   "outputs": [
    {
     "name": "stdout",
     "output_type": "stream",
     "text": [
      "Requirement already satisfied: matplotlib in c:\\users\\kivef\\appdata\\local\\programs\\python\\python312\\lib\\site-packages (3.9.2)\n",
      "Requirement already satisfied: contourpy>=1.0.1 in c:\\users\\kivef\\appdata\\local\\programs\\python\\python312\\lib\\site-packages (from matplotlib) (1.3.0)\n",
      "Requirement already satisfied: cycler>=0.10 in c:\\users\\kivef\\appdata\\local\\programs\\python\\python312\\lib\\site-packages (from matplotlib) (0.12.1)\n",
      "Requirement already satisfied: fonttools>=4.22.0 in c:\\users\\kivef\\appdata\\local\\programs\\python\\python312\\lib\\site-packages (from matplotlib) (4.53.1)\n",
      "Requirement already satisfied: kiwisolver>=1.3.1 in c:\\users\\kivef\\appdata\\local\\programs\\python\\python312\\lib\\site-packages (from matplotlib) (1.4.7)\n",
      "Requirement already satisfied: numpy>=1.23 in c:\\users\\kivef\\appdata\\local\\programs\\python\\python312\\lib\\site-packages (from matplotlib) (2.0.1)\n",
      "Requirement already satisfied: packaging>=20.0 in c:\\users\\kivef\\appdata\\local\\programs\\python\\python312\\lib\\site-packages (from matplotlib) (24.1)\n",
      "Requirement already satisfied: pillow>=8 in c:\\users\\kivef\\appdata\\local\\programs\\python\\python312\\lib\\site-packages (from matplotlib) (10.4.0)\n",
      "Requirement already satisfied: pyparsing>=2.3.1 in c:\\users\\kivef\\appdata\\local\\programs\\python\\python312\\lib\\site-packages (from matplotlib) (3.1.4)\n",
      "Requirement already satisfied: python-dateutil>=2.7 in c:\\users\\kivef\\appdata\\local\\programs\\python\\python312\\lib\\site-packages (from matplotlib) (2.9.0.post0)\n",
      "Requirement already satisfied: six>=1.5 in c:\\users\\kivef\\appdata\\local\\programs\\python\\python312\\lib\\site-packages (from python-dateutil>=2.7->matplotlib) (1.16.0)\n",
      "Note: you may need to restart the kernel to use updated packages.\n"
     ]
    }
   ],
   "source": [
    "pip install matplotlib"
   ]
  },
  {
   "cell_type": "code",
   "execution_count": null,
   "id": "22c57e56-616e-4f42-8086-2b04dc8652e2",
   "metadata": {},
   "outputs": [],
   "source": [
    "import numpy as np\n",
    "import matplotlib.pyplot as plt\n",
    "import pandas as pd"
   ]
  },
  {
   "cell_type": "markdown",
   "id": "a26bf89f-c8d4-47c4-a343-4271947a3e4c",
   "metadata": {},
   "source": [
    "### LECTURA DE BASE DE DATOS"
   ]
  },
  {
   "cell_type": "code",
   "execution_count": null,
   "id": "5a280848-f5fb-48e4-894e-463cede8abee",
   "metadata": {},
   "outputs": [],
   "source": [
    "data_route = '../data/'"
   ]
  },
  {
   "cell_type": "code",
   "execution_count": null,
   "id": "c068f9a1-cfdf-44f3-83d5-ba90f5598584",
   "metadata": {},
   "outputs": [],
   "source": [
    "expenses_filename = 'expenses.csv'\n",
    "incomes_filename = 'incomes.csv'"
   ]
  },
  {
   "cell_type": "code",
   "execution_count": null,
   "id": "fa19ffdb-16be-47da-8ce8-fe98546ea51f",
   "metadata": {},
   "outputs": [],
   "source": [
    "expenses = pd.read_csv(data_route+expenses_filename)\n",
    "incomes = pd.read_csv(data_route+incomes_filename)"
   ]
  },
  {
   "cell_type": "code",
   "execution_count": null,
   "id": "7fe4f7b9-a0f2-4bc7-b638-1bc3e82b77db",
   "metadata": {},
   "outputs": [],
   "source": [
    "expenses"
   ]
  },
  {
   "cell_type": "code",
   "execution_count": null,
   "id": "8b8c9dce-1d2d-4a87-84e8-53967caebfc0",
   "metadata": {},
   "outputs": [],
   "source": []
  }
 ],
 "metadata": {
  "kernelspec": {
   "display_name": "Python 3 (ipykernel)",
   "language": "python",
   "name": "python3"
  },
  "language_info": {
   "codemirror_mode": {
    "name": "ipython",
    "version": 3
   },
   "file_extension": ".py",
   "mimetype": "text/x-python",
   "name": "python",
   "nbconvert_exporter": "python",
   "pygments_lexer": "ipython3",
   "version": "3.12.3"
  }
 },
 "nbformat": 4,
 "nbformat_minor": 5
}
