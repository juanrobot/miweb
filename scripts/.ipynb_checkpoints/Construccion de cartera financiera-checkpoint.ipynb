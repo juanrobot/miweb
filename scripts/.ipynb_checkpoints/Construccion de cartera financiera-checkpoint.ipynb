{
 "cells": [
  {
   "cell_type": "markdown",
   "id": "ab2c38b4-3245-48d0-8ad7-e79d29969370",
   "metadata": {},
   "source": [
    "# CONSTRUCCIÓN DE CARTERA FINANCIERA"
   ]
  },
  {
   "cell_type": "markdown",
   "id": "85ebccc6-9647-4a0f-a8b4-72c042bf50b1",
   "metadata": {},
   "source": [
    "### Librerías"
   ]
  },
  {
   "cell_type": "code",
   "execution_count": 1,
   "id": "ce0e5986-e475-4a02-8325-fd2173b8ead9",
   "metadata": {},
   "outputs": [
    {
     "name": "stdout",
     "output_type": "stream",
     "text": [
      "Requirement already satisfied: matplotlib in c:\\users\\kivef\\appdata\\local\\programs\\python\\python312\\lib\\site-packages (3.9.2)\n",
      "Requirement already satisfied: contourpy>=1.0.1 in c:\\users\\kivef\\appdata\\local\\programs\\python\\python312\\lib\\site-packages (from matplotlib) (1.3.0)\n",
      "Requirement already satisfied: cycler>=0.10 in c:\\users\\kivef\\appdata\\local\\programs\\python\\python312\\lib\\site-packages (from matplotlib) (0.12.1)\n",
      "Requirement already satisfied: fonttools>=4.22.0 in c:\\users\\kivef\\appdata\\local\\programs\\python\\python312\\lib\\site-packages (from matplotlib) (4.53.1)\n",
      "Requirement already satisfied: kiwisolver>=1.3.1 in c:\\users\\kivef\\appdata\\local\\programs\\python\\python312\\lib\\site-packages (from matplotlib) (1.4.7)\n",
      "Requirement already satisfied: numpy>=1.23 in c:\\users\\kivef\\appdata\\local\\programs\\python\\python312\\lib\\site-packages (from matplotlib) (2.0.1)\n",
      "Requirement already satisfied: packaging>=20.0 in c:\\users\\kivef\\appdata\\local\\programs\\python\\python312\\lib\\site-packages (from matplotlib) (24.1)\n",
      "Requirement already satisfied: pillow>=8 in c:\\users\\kivef\\appdata\\local\\programs\\python\\python312\\lib\\site-packages (from matplotlib) (10.4.0)\n",
      "Requirement already satisfied: pyparsing>=2.3.1 in c:\\users\\kivef\\appdata\\local\\programs\\python\\python312\\lib\\site-packages (from matplotlib) (3.1.4)\n",
      "Requirement already satisfied: python-dateutil>=2.7 in c:\\users\\kivef\\appdata\\local\\programs\\python\\python312\\lib\\site-packages (from matplotlib) (2.9.0.post0)\n",
      "Requirement already satisfied: six>=1.5 in c:\\users\\kivef\\appdata\\local\\programs\\python\\python312\\lib\\site-packages (from python-dateutil>=2.7->matplotlib) (1.16.0)\n",
      "Note: you may need to restart the kernel to use updated packages.\n"
     ]
    }
   ],
   "source": [
    "pip install matplotlib"
   ]
  },
  {
   "cell_type": "code",
   "execution_count": 49,
   "id": "22c57e56-616e-4f42-8086-2b04dc8652e2",
   "metadata": {},
   "outputs": [],
   "source": [
    "import numpy as np\n",
    "import matplotlib.pyplot as plt\n",
    "import pandas as pd"
   ]
  },
  {
   "cell_type": "markdown",
   "id": "a26bf89f-c8d4-47c4-a343-4271947a3e4c",
   "metadata": {},
   "source": [
    "### LECTURA DE BASE DE DATOS"
   ]
  },
  {
   "cell_type": "markdown",
   "id": "18118f58-abba-4609-8d50-56d8da68cd9e",
   "metadata": {},
   "source": [
    "### entramos a data, dos puntos para salir y entrar a la carpeta data"
   ]
  },
  {
   "cell_type": "code",
   "execution_count": 4,
   "id": "5a280848-f5fb-48e4-894e-463cede8abee",
   "metadata": {},
   "outputs": [],
   "source": [
    "data_route = '../data/'"
   ]
  },
  {
   "cell_type": "markdown",
   "id": "d19b38df-ca4b-4ade-9db7-757e935a3414",
   "metadata": {},
   "source": [
    "### variables"
   ]
  },
  {
   "cell_type": "code",
   "execution_count": 5,
   "id": "c068f9a1-cfdf-44f3-83d5-ba90f5598584",
   "metadata": {},
   "outputs": [],
   "source": [
    "expenses_filename = 'expenses.csv'\n",
    "incomes_filename = 'incomes.csv'"
   ]
  },
  {
   "cell_type": "markdown",
   "id": "6012b613-f7fd-46a9-9e88-ea97894b76cd",
   "metadata": {},
   "source": [
    "### creamos una instancia, ejemplo: expenses será pd.read_csv(la ruta + la variable) osea devuelve una instancia de una clase dataframe"
   ]
  },
  {
   "cell_type": "code",
   "execution_count": 13,
   "id": "fa19ffdb-16be-47da-8ce8-fe98546ea51f",
   "metadata": {},
   "outputs": [],
   "source": [
    "expenses = pd.read_csv(data_route+expenses_filename)\n",
    "incomes = pd.read_csv(data_route+incomes_filename)"
   ]
  },
  {
   "cell_type": "markdown",
   "id": "0754cdd3-bb32-42b5-bf14-a9df0bf17071",
   "metadata": {},
   "source": [
    "### esto es un dataframe, lee nuestra base de datos pero es una clase que se ve como nuestra base de datos"
   ]
  },
  {
   "cell_type": "code",
   "execution_count": 7,
   "id": "7fe4f7b9-a0f2-4bc7-b638-1bc3e82b77db",
   "metadata": {},
   "outputs": [
    {
     "data": {
      "text/html": [
       "<div>\n",
       "<style scoped>\n",
       "    .dataframe tbody tr th:only-of-type {\n",
       "        vertical-align: middle;\n",
       "    }\n",
       "\n",
       "    .dataframe tbody tr th {\n",
       "        vertical-align: top;\n",
       "    }\n",
       "\n",
       "    .dataframe thead th {\n",
       "        text-align: right;\n",
       "    }\n",
       "</style>\n",
       "<table border=\"1\" class=\"dataframe\">\n",
       "  <thead>\n",
       "    <tr style=\"text-align: right;\">\n",
       "      <th></th>\n",
       "      <th>DATE</th>\n",
       "      <th>AMOUNT</th>\n",
       "      <th>CATEGORY</th>\n",
       "      <th>THIRD-PARTY</th>\n",
       "      <th>DESCRIPTION</th>\n",
       "    </tr>\n",
       "  </thead>\n",
       "  <tbody>\n",
       "  </tbody>\n",
       "</table>\n",
       "</div>"
      ],
      "text/plain": [
       "Empty DataFrame\n",
       "Columns: [DATE, AMOUNT, CATEGORY, THIRD-PARTY, DESCRIPTION]\n",
       "Index: []"
      ]
     },
     "execution_count": 7,
     "metadata": {},
     "output_type": "execute_result"
    }
   ],
   "source": [
    "expenses"
   ]
  },
  {
   "cell_type": "code",
   "execution_count": 14,
   "id": "8b8c9dce-1d2d-4a87-84e8-53967caebfc0",
   "metadata": {},
   "outputs": [
    {
     "data": {
      "text/html": [
       "<div>\n",
       "<style scoped>\n",
       "    .dataframe tbody tr th:only-of-type {\n",
       "        vertical-align: middle;\n",
       "    }\n",
       "\n",
       "    .dataframe tbody tr th {\n",
       "        vertical-align: top;\n",
       "    }\n",
       "\n",
       "    .dataframe thead th {\n",
       "        text-align: right;\n",
       "    }\n",
       "</style>\n",
       "<table border=\"1\" class=\"dataframe\">\n",
       "  <thead>\n",
       "    <tr style=\"text-align: right;\">\n",
       "      <th></th>\n",
       "      <th>DATE</th>\n",
       "      <th>AMOUNT</th>\n",
       "      <th>CATEGORY</th>\n",
       "      <th>THIRD-PARTY</th>\n",
       "      <th>DESCRIPTION</th>\n",
       "    </tr>\n",
       "  </thead>\n",
       "  <tbody>\n",
       "    <tr>\n",
       "      <th>0</th>\n",
       "      <td>10-09-2024</td>\n",
       "      <td>500</td>\n",
       "      <td>VARIABLE</td>\n",
       "      <td>PNSP</td>\n",
       "      <td>Inscripción de curso</td>\n",
       "    </tr>\n",
       "  </tbody>\n",
       "</table>\n",
       "</div>"
      ],
      "text/plain": [
       "         DATE  AMOUNT  CATEGORY THIRD-PARTY           DESCRIPTION\n",
       "0  10-09-2024     500  VARIABLE        PNSP  Inscripción de curso"
      ]
     },
     "execution_count": 14,
     "metadata": {},
     "output_type": "execute_result"
    }
   ],
   "source": [
    "incomes"
   ]
  },
  {
   "cell_type": "code",
   "execution_count": 15,
   "id": "b87f99f2-3689-4aff-86c0-708a7c624696",
   "metadata": {},
   "outputs": [
    {
     "data": {
      "text/plain": [
       "Index(['DATE', 'AMOUNT', 'CATEGORY', 'THIRD-PARTY', 'DESCRIPTION'], dtype='object')"
      ]
     },
     "execution_count": 15,
     "metadata": {},
     "output_type": "execute_result"
    }
   ],
   "source": [
    "incomes.columns"
   ]
  },
  {
   "cell_type": "code",
   "execution_count": 16,
   "id": "a872aa84-4c0a-47fe-9015-edee028f593c",
   "metadata": {},
   "outputs": [
    {
     "data": {
      "text/plain": [
       "0    10-09-2024\n",
       "Name: DATE, dtype: object"
      ]
     },
     "execution_count": 16,
     "metadata": {},
     "output_type": "execute_result"
    }
   ],
   "source": [
    "incomes['DATE']"
   ]
  },
  {
   "cell_type": "code",
   "execution_count": 17,
   "id": "3f771dd8-073a-4bb9-9561-47dd7369a678",
   "metadata": {},
   "outputs": [
    {
     "data": {
      "text/plain": [
       "0    500\n",
       "Name: AMOUNT, dtype: int64"
      ]
     },
     "execution_count": 17,
     "metadata": {},
     "output_type": "execute_result"
    }
   ],
   "source": [
    "incomes['AMOUNT']"
   ]
  },
  {
   "cell_type": "code",
   "execution_count": 37,
   "id": "a5c68775-b43a-4abe-99c0-5a0660c242a8",
   "metadata": {},
   "outputs": [
    {
     "data": {
      "text/plain": [
       "np.int64(1900)"
      ]
     },
     "execution_count": 37,
     "metadata": {},
     "output_type": "execute_result"
    }
   ],
   "source": [
    "incomes['AMOUNT'].sum()"
   ]
  },
  {
   "cell_type": "code",
   "execution_count": 20,
   "id": "59d72c2d-c7ab-4f3d-9670-ef95d8c113a3",
   "metadata": {},
   "outputs": [
    {
     "data": {
      "text/plain": [
       "DATE                     10-09-2024\n",
       "AMOUNT                          500\n",
       "CATEGORY                   VARIABLE\n",
       "THIRD-PARTY                    PNSP\n",
       "DESCRIPTION    Inscripción de curso\n",
       "Name: 0, dtype: object"
      ]
     },
     "execution_count": 20,
     "metadata": {},
     "output_type": "execute_result"
    }
   ],
   "source": [
    "incomes.loc[0]"
   ]
  },
  {
   "cell_type": "code",
   "execution_count": 21,
   "id": "9d7344ae-bdd1-4c06-85b8-7fa51e0f4ed4",
   "metadata": {},
   "outputs": [
    {
     "data": {
      "text/plain": [
       "'Inscripción de curso'"
      ]
     },
     "execution_count": 21,
     "metadata": {},
     "output_type": "execute_result"
    }
   ],
   "source": [
    "incomes.loc[0]['DESCRIPTION']"
   ]
  },
  {
   "cell_type": "code",
   "execution_count": 35,
   "id": "9d9a7367-a114-48cb-b399-eab5c14992a9",
   "metadata": {},
   "outputs": [
    {
     "name": "stdout",
     "output_type": "stream",
     "text": [
      "4\n"
     ]
    }
   ],
   "source": [
    "n = len(incomes)\n",
    "print(n)"
   ]
  },
  {
   "cell_type": "code",
   "execution_count": 34,
   "id": "109aad75-6b4b-4319-8a09-67ac4554662d",
   "metadata": {},
   "outputs": [],
   "source": [
    "incomes.loc[n] = ['10-09-2024',800,'VARIABLE','PNSP','CURSO ITENSIVO DE PYTHON']"
   ]
  },
  {
   "cell_type": "code",
   "execution_count": 36,
   "id": "a12b83b8-8782-4b44-b051-a0bbb13da0da",
   "metadata": {},
   "outputs": [
    {
     "data": {
      "text/html": [
       "<div>\n",
       "<style scoped>\n",
       "    .dataframe tbody tr th:only-of-type {\n",
       "        vertical-align: middle;\n",
       "    }\n",
       "\n",
       "    .dataframe tbody tr th {\n",
       "        vertical-align: top;\n",
       "    }\n",
       "\n",
       "    .dataframe thead th {\n",
       "        text-align: right;\n",
       "    }\n",
       "</style>\n",
       "<table border=\"1\" class=\"dataframe\">\n",
       "  <thead>\n",
       "    <tr style=\"text-align: right;\">\n",
       "      <th></th>\n",
       "      <th>DATE</th>\n",
       "      <th>AMOUNT</th>\n",
       "      <th>CATEGORY</th>\n",
       "      <th>THIRD-PARTY</th>\n",
       "      <th>DESCRIPTION</th>\n",
       "    </tr>\n",
       "  </thead>\n",
       "  <tbody>\n",
       "    <tr>\n",
       "      <th>0</th>\n",
       "      <td>10-09-2024</td>\n",
       "      <td>500</td>\n",
       "      <td>VARIABLE</td>\n",
       "      <td>PNSP</td>\n",
       "      <td>Inscripción de curso</td>\n",
       "    </tr>\n",
       "    <tr>\n",
       "      <th>1</th>\n",
       "      <td>10-09-2024</td>\n",
       "      <td>300</td>\n",
       "      <td>VARIABLE</td>\n",
       "      <td>PNSP</td>\n",
       "      <td>CURSO ITENSIVO DE PYTHON</td>\n",
       "    </tr>\n",
       "    <tr>\n",
       "      <th>2</th>\n",
       "      <td>10-09-2024</td>\n",
       "      <td>300</td>\n",
       "      <td>VARIABLE</td>\n",
       "      <td>PNSP</td>\n",
       "      <td>CURSO ITENSIVO DE PYTHON</td>\n",
       "    </tr>\n",
       "    <tr>\n",
       "      <th>3</th>\n",
       "      <td>10-09-2024</td>\n",
       "      <td>800</td>\n",
       "      <td>VARIABLE</td>\n",
       "      <td>PNSP</td>\n",
       "      <td>CURSO ITENSIVO DE PYTHON</td>\n",
       "    </tr>\n",
       "  </tbody>\n",
       "</table>\n",
       "</div>"
      ],
      "text/plain": [
       "         DATE  AMOUNT  CATEGORY THIRD-PARTY               DESCRIPTION\n",
       "0  10-09-2024     500  VARIABLE        PNSP      Inscripción de curso\n",
       "1  10-09-2024     300  VARIABLE        PNSP  CURSO ITENSIVO DE PYTHON\n",
       "2  10-09-2024     300  VARIABLE        PNSP  CURSO ITENSIVO DE PYTHON\n",
       "3  10-09-2024     800  VARIABLE        PNSP  CURSO ITENSIVO DE PYTHON"
      ]
     },
     "execution_count": 36,
     "metadata": {},
     "output_type": "execute_result"
    }
   ],
   "source": [
    "incomes"
   ]
  },
  {
   "cell_type": "markdown",
   "id": "c020b8ad-69f2-460d-bf5f-903a45c0046e",
   "metadata": {},
   "source": [
    "### Construcción de la clase"
   ]
  },
  {
   "cell_type": "code",
   "execution_count": 62,
   "id": "235da6a8-45ce-4815-a919-9cfe7b7cc9ff",
   "metadata": {},
   "outputs": [],
   "source": [
    "class FWallet:\n",
    "    def __init__(self,inputs):\n",
    "        self.inputs = inputs\n",
    "        self.incomes = pd.read_csv(self.inputs['data_route']+self.inputs['incomes_filename'])\n",
    "        self.expenses = pd.read_csv(self.inputs['data_route']+self.inputs['expenses_filename'])\n",
    "        \n",
    "    ### ACTIONS TO PERFORM ###\n",
    "\n",
    "    #Add income to database\n",
    "    def add_income(self):\n",
    "        date = input('date: ')\n",
    "        amount = input('amount: ')\n",
    "        category = input('category: ')\n",
    "        third_party = input('third_party: ')\n",
    "        description = input('description: ')\n",
    "\n",
    "        new_income = [date,amount,category,third_party,description]\n",
    "\n",
    "        n = len(self.incomes)\n",
    "        self.incomes.loc[n] = new_income\n",
    "\n",
    "    #Calculate total income\n",
    "    def total_income(self):\n",
    "        pass\n",
    "\n",
    "    #Calculate total expense\n",
    "    def total_expense(self):\n",
    "        pass\n",
    "\n",
    "    #Calculate balance = income - expense\n",
    "    def balance(self):\n",
    "        pass\n",
    "\n",
    "    #Create financial report using te functions above\n",
    "    def financial_report(self):\n",
    "        pass"
   ]
  },
  {
   "cell_type": "code",
   "execution_count": 58,
   "id": "3e91263f-ef8f-4ddf-a3f1-a317980e48e2",
   "metadata": {},
   "outputs": [],
   "source": [
    "inputs = {\n",
    "    'data_route' : '../data/',\n",
    "    'expenses_filename' : 'expenses.csv',\n",
    "    'incomes_filename' : 'incomes.csv'\n",
    "}"
   ]
  },
  {
   "cell_type": "code",
   "execution_count": 59,
   "id": "c4748ccf-e876-421b-9052-52d5b51d3ede",
   "metadata": {},
   "outputs": [],
   "source": [
    "cartera = FWallet(inputs)"
   ]
  },
  {
   "cell_type": "code",
   "execution_count": 60,
   "id": "abf0cf73-13a9-48e3-adea-51a71874c24e",
   "metadata": {},
   "outputs": [
    {
     "data": {
      "text/html": [
       "<div>\n",
       "<style scoped>\n",
       "    .dataframe tbody tr th:only-of-type {\n",
       "        vertical-align: middle;\n",
       "    }\n",
       "\n",
       "    .dataframe tbody tr th {\n",
       "        vertical-align: top;\n",
       "    }\n",
       "\n",
       "    .dataframe thead th {\n",
       "        text-align: right;\n",
       "    }\n",
       "</style>\n",
       "<table border=\"1\" class=\"dataframe\">\n",
       "  <thead>\n",
       "    <tr style=\"text-align: right;\">\n",
       "      <th></th>\n",
       "      <th>DATE</th>\n",
       "      <th>AMOUNT</th>\n",
       "      <th>CATEGORY</th>\n",
       "      <th>THIRD-PARTY</th>\n",
       "      <th>DESCRIPTION</th>\n",
       "    </tr>\n",
       "  </thead>\n",
       "  <tbody>\n",
       "    <tr>\n",
       "      <th>0</th>\n",
       "      <td>10-09-2024</td>\n",
       "      <td>500</td>\n",
       "      <td>VARIABLE</td>\n",
       "      <td>PNSP</td>\n",
       "      <td>Inscripción de curso</td>\n",
       "    </tr>\n",
       "  </tbody>\n",
       "</table>\n",
       "</div>"
      ],
      "text/plain": [
       "         DATE  AMOUNT  CATEGORY THIRD-PARTY           DESCRIPTION\n",
       "0  10-09-2024     500  VARIABLE        PNSP  Inscripción de curso"
      ]
     },
     "execution_count": 60,
     "metadata": {},
     "output_type": "execute_result"
    }
   ],
   "source": [
    "cartera.incomes"
   ]
  },
  {
   "cell_type": "code",
   "execution_count": 63,
   "id": "18406bb5-1295-4edf-8f12-90de000966f2",
   "metadata": {},
   "outputs": [
    {
     "name": "stdin",
     "output_type": "stream",
     "text": [
      "date:  11-09-2024\n",
      "amount:  420\n",
      "category:  VARIABLE\n",
      "third_party:  TRABAJO EXTERNO\n",
      "description:  CHAMBA DE DON ANGEL\n"
     ]
    },
    {
     "ename": "NameError",
     "evalue": "name 'third_party_description' is not defined",
     "output_type": "error",
     "traceback": [
      "\u001b[1;31m---------------------------------------------------------------------------\u001b[0m",
      "\u001b[1;31mNameError\u001b[0m                                 Traceback (most recent call last)",
      "Cell \u001b[1;32mIn[63], line 1\u001b[0m\n\u001b[1;32m----> 1\u001b[0m \u001b[43mcartera\u001b[49m\u001b[38;5;241;43m.\u001b[39;49m\u001b[43madd_income\u001b[49m\u001b[43m(\u001b[49m\u001b[43m)\u001b[49m\n",
      "Cell \u001b[1;32mIn[57], line 17\u001b[0m, in \u001b[0;36mFWallet.add_income\u001b[1;34m(self)\u001b[0m\n\u001b[0;32m     14\u001b[0m third_party \u001b[38;5;241m=\u001b[39m \u001b[38;5;28minput\u001b[39m(\u001b[38;5;124m'\u001b[39m\u001b[38;5;124mthird_party: \u001b[39m\u001b[38;5;124m'\u001b[39m)\n\u001b[0;32m     15\u001b[0m description \u001b[38;5;241m=\u001b[39m \u001b[38;5;28minput\u001b[39m(\u001b[38;5;124m'\u001b[39m\u001b[38;5;124mdescription: \u001b[39m\u001b[38;5;124m'\u001b[39m)\n\u001b[1;32m---> 17\u001b[0m new_income \u001b[38;5;241m=\u001b[39m [date,amount,category,\u001b[43mthird_party_description\u001b[49m]\n\u001b[0;32m     19\u001b[0m n \u001b[38;5;241m=\u001b[39m \u001b[38;5;28mlen\u001b[39m(\u001b[38;5;28mself\u001b[39m\u001b[38;5;241m.\u001b[39mincomes)\n\u001b[0;32m     20\u001b[0m \u001b[38;5;28mself\u001b[39m\u001b[38;5;241m.\u001b[39mincomes\u001b[38;5;241m.\u001b[39mloc[n] \u001b[38;5;241m=\u001b[39m new_income\n",
      "\u001b[1;31mNameError\u001b[0m: name 'third_party_description' is not defined"
     ]
    }
   ],
   "source": [
    "cartera.add_income()"
   ]
  },
  {
   "cell_type": "code",
   "execution_count": null,
   "id": "3dc60a11-85e3-4d06-856c-92403efba889",
   "metadata": {},
   "outputs": [],
   "source": []
  }
 ],
 "metadata": {
  "kernelspec": {
   "display_name": "Python 3 (ipykernel)",
   "language": "python",
   "name": "python3"
  },
  "language_info": {
   "codemirror_mode": {
    "name": "ipython",
    "version": 3
   },
   "file_extension": ".py",
   "mimetype": "text/x-python",
   "name": "python",
   "nbconvert_exporter": "python",
   "pygments_lexer": "ipython3",
   "version": "3.12.3"
  }
 },
 "nbformat": 4,
 "nbformat_minor": 5
}
